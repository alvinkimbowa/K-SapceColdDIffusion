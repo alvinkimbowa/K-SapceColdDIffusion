{
 "cells": [
  {
   "cell_type": "code",
   "execution_count": null,
   "metadata": {},
   "outputs": [],
   "source": [
    "import os\n",
    "import shutil\n",
    "\n",
    "path_dir_train = '/home/alvin/UltrAi/Datasets/raw_datasets/m4raw/sample/multicoil_train'\n",
    "\n",
    "imgs = os.listdir(path_dir_train)\n",
    "imgs = [img for img in imgs if img.endswith(\"T201.h5\")]\n",
    "len(imgs)\n",
    "\n",
    "dst_dir = '/home/alvin/UltrAi/Datasets/raw_datasets/m4raw_split'\n",
    "dataset = {'t1': [], 't2': [], 'flair': []}\n",
    "os.makedirs(os.path.join(dst_dir, 'T1W'), exist_ok=True)\n",
    "os.makedirs(os.path.join(dst_dir, 'T2W'), exist_ok=True)\n",
    "os.makedirs(os.path.join(dst_dir, 'FLAIR'), exist_ok=True)\n",
    "for id in os.listdir(path_dir_train):\n",
    "    if 'T1' in id:\n",
    "        dataset['t1'].append(id)\n",
    "        shutil.copy(os.path.join(path_dir_train, id), os.path.join(dst_dir, 'T1W', id))\n",
    "    elif 'FLAIR' in id:\n",
    "        dataset['flair'].append(id)\n",
    "        shutil.copy(os.path.join(path_dir_train, id), os.path.join(dst_dir, 'FLAIR', id))   \n",
    "    elif 'T2' in id:\n",
    "        dataset['t2'].append(id)\n",
    "        shutil.copy(os.path.join(path_dir_train, id), os.path.join(dst_dir, 'T2W', id))\n",
    "\n",
    "from pprint import pprint\n",
    "\n",
    "for contrast, ids in dataset.items():\n",
    "    if contrast == 'flair':\n",
    "        print(f\"{contrast}: {len(ids)/2}\")\n",
    "    else:\n",
    "        print(f\"{contrast}: {len(ids)/3}\")"
   ]
  },
  {
   "cell_type": "code",
   "execution_count": null,
   "metadata": {},
   "outputs": [],
   "source": []
  }
 ],
 "metadata": {
  "kernelspec": {
   "display_name": "venv",
   "language": "python",
   "name": "python3"
  },
  "language_info": {
   "name": "python",
   "version": "3.12.7"
  }
 },
 "nbformat": 4,
 "nbformat_minor": 2
}
