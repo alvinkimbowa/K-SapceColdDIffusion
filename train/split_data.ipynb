{
 "cells": [
  {
   "cell_type": "code",
   "execution_count": 17,
   "metadata": {},
   "outputs": [
    {
     "name": "stderr",
     "output_type": "stream",
     "text": [
      "100%|██████████| 240/240 [00:00<00:00, 1119.13it/s]\n"
     ]
    }
   ],
   "source": [
    "import os\n",
    "import shutil\n",
    "from tqdm import tqdm\n",
    "from pprint import pprint\n",
    "\n",
    "path_dir_train = '/home/alvin/UltrAi/Datasets/raw_datasets/m4raw/multicoil_val'\n",
    "\n",
    "imgs = os.listdir(path_dir_train)\n",
    "imgs = [img for img in imgs if img.endswith(\"T201.h5\")]\n",
    "len(imgs)\n",
    "\n",
    "dst_dir = f\"{path_dir_train}_frac\"\n",
    "dataset = {'t1': [], 't2': [], 'flair': []}\n",
    "os.makedirs(dst_dir, exist_ok=True)\n",
    "for id in tqdm(os.listdir(path_dir_train)):\n",
    "    if id.endswith(\"T201.h5\"):\n",
    "        shutil.copy(os.path.join(path_dir_train, id), os.path.join(dst_dir, id))"
   ]
  },
  {
   "cell_type": "code",
   "execution_count": null,
   "metadata": {},
   "outputs": [],
   "source": []
  }
 ],
 "metadata": {
  "kernelspec": {
   "display_name": "venv",
   "language": "python",
   "name": "python3"
  },
  "language_info": {
   "codemirror_mode": {
    "name": "ipython",
    "version": 3
   },
   "file_extension": ".py",
   "mimetype": "text/x-python",
   "name": "python",
   "nbconvert_exporter": "python",
   "pygments_lexer": "ipython3",
   "version": "3.12.7"
  }
 },
 "nbformat": 4,
 "nbformat_minor": 2
}
