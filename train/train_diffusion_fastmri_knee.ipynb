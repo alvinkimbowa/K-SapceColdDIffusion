{
 "cells": [
  {
   "cell_type": "code",
   "execution_count": null,
   "metadata": {
    "collapsed": false
   },
   "outputs": [
    {
     "name": "stdout",
     "output_type": "stream",
     "text": [
      "2.5.1+cu124\n",
      "device: cuda:0\n"
     ]
    }
   ],
   "source": [
    "import sys\n",
    "sys.path.append('../')\n",
    "\n",
    "import numpy as np\n",
    "import matplotlib.pyplot as plt\n",
    "import pathlib\n",
    "\n",
    "from torch.utils.data import DataLoader\n",
    "\n",
    "from utils.mri_data import SliceDataset\n",
    "from utils.data_transform import DataTransform_Diffusion\n",
    "from utils.sample_mask import RandomMaskGaussianDiffusion, RandomMaskDiffusion, RandomMaskDiffusion2D\n",
    "from utils.misc import *\n",
    "from help_func import print_var_detail\n",
    "\n",
    "from diffusion.kspace_diffusion import KspaceDiffusion\n",
    "from utils.diffusion_train import Trainer\n",
    "from net.u_net_diffusion import Unet\n",
    "\n",
    "print(torch.__version__)\n",
    "device = torch.device(\"cuda:0\" if torch.cuda.is_available() else \"cpu\")\n",
    "print('device:', device)"
   ]
  },
  {
   "cell_type": "code",
   "execution_count": 2,
   "metadata": {
    "collapsed": false
   },
   "outputs": [],
   "source": [
    "# # ****** TRAINING SETTINGS ******\n",
    "# # dataset settings\n",
    "# acc = 8  # acceleration factor\n",
    "# frac_c = 0.04  # center fraction\n",
    "# path_dir_train = '/home/alvin/UltrAi/Datasets/raw_datasets/fastmri/knee_singlecoil/singlecoil_train/'\n",
    "# path_dir_test = '/home/alvin/UltrAi/Datasets/raw_datasets/fastmri/knee_singlecoil/singlecoil_test/'\n",
    "# img_mode = 'fastmri'  # 'fastmri' or 'B1000'\n",
    "# bhsz = 2\n",
    "# img_size = 320"
   ]
  },
  {
   "cell_type": "code",
   "execution_count": 3,
   "metadata": {},
   "outputs": [],
   "source": [
    "# ****** TRAINING SETTINGS ******\n",
    "# dataset settings\n",
    "acc = 4  # acceleration factor\n",
    "frac_c = 0.04  # center fraction\n",
    "path_dir_train = '/home/alvin/UltrAi/Datasets/raw_datasets/m4raw/sample/multicoil_train'\n",
    "path_dir_test = '/home/alvin/UltrAi/Datasets/raw_datasets/m4raw/sample/multicoil_test_masked'\n",
    "img_mode = 'fastmri'  # 'fastmri' or 'B1000'\n",
    "bhsz = 1\n",
    "img_size = 256"
   ]
  },
  {
   "cell_type": "code",
   "execution_count": 8,
   "metadata": {
    "collapsed": false
   },
   "outputs": [
    {
     "name": "stdout",
     "output_type": "stream",
     "text": [
      "len dataloader train: 45\n",
      "len dataloader test: 18\n"
     ]
    }
   ],
   "source": [
    "# ====== Construct dataset ======\n",
    "# initialize mask\n",
    "mask_func = RandomMaskDiffusion(\n",
    "    acceleration=acc,\n",
    "    center_fraction=frac_c,\n",
    "    size=(1, img_size, img_size),\n",
    ")\n",
    "\n",
    "# initialize dataset\n",
    "data_transform = DataTransform_Diffusion(\n",
    "    mask_func,\n",
    "    img_size=img_size,\n",
    "    combine_coil=True,\n",
    "    flag_singlecoil=False,\n",
    ")\n",
    "\n",
    "# training set\n",
    "dataset_train = SliceDataset(\n",
    "    root=pathlib.Path(path_dir_train),\n",
    "    transform=data_transform,\n",
    "    challenge='multicoil',\n",
    "    num_skip_slice=5,\n",
    ")\n",
    "\n",
    "# test set\n",
    "dataset_test = SliceDataset(\n",
    "    root=pathlib.Path(path_dir_test),\n",
    "    transform=data_transform,\n",
    "    challenge='multicoil',\n",
    "    num_skip_slice=5,\n",
    ")\n",
    "\n",
    "dataloader_train = DataLoader(dataset_train, batch_size=bhsz, shuffle=True)\n",
    "dataloader_test = DataLoader(dataset_test, batch_size=bhsz, shuffle=True)\n",
    "print('len dataloader train:', len(dataloader_train))\n",
    "print('len dataloader test:', len(dataloader_test))"
   ]
  },
  {
   "cell_type": "code",
   "execution_count": 9,
   "metadata": {
    "collapsed": false
   },
   "outputs": [
    {
     "name": "stdout",
     "output_type": "stream",
     "text": [
      "train_steps: 700000\n",
      "Path already exists.\n"
     ]
    }
   ],
   "source": [
    "# model settings\n",
    "CH_MID = 64\n",
    "# training settings\n",
    "NUM_EPOCH = 50\n",
    "learning_rate = 2e-5\n",
    "time_steps = 1000\n",
    "train_steps = NUM_EPOCH * len(dataloader_train) # can be customized to a fixed number, however, it should reflect the dataset size.\n",
    "train_steps = max(train_steps, 700000)\n",
    "print('train_steps:',train_steps)\n",
    "# save settings\n",
    "PATH_MODEL = '../saved_models/fastmri_knee/diffusion_'+str(img_mode)+'_'+str(acc)+'x_T'+str(time_steps)+'_S'+str(train_steps)+'/'\n",
    "create_path(PATH_MODEL)"
   ]
  },
  {
   "cell_type": "code",
   "execution_count": 10,
   "metadata": {
    "collapsed": false
   },
   "outputs": [
    {
     "name": "stdout",
     "output_type": "stream",
     "text": [
      "Is Time embed used ?  True\n",
      "model size: 53.992 MB\n"
     ]
    }
   ],
   "source": [
    "# construct diffusion model\n",
    "save_folder=PATH_MODEL\n",
    "load_path=None\n",
    "blur_routine='Constant'\n",
    "train_routine='Final'\n",
    "sampling_routine='x0_step_down'\n",
    "discrete=False\n",
    "\n",
    "model = Unet(\n",
    "    dim=CH_MID,\n",
    "    dim_mults=(1, 2, 4, 8),\n",
    "    channels=2,\n",
    ").cuda()\n",
    "print('model size: %.3f MB' % (calc_model_size(model)))\n",
    "\n",
    "diffusion = KspaceDiffusion(\n",
    "    model,\n",
    "    image_size=img_size,\n",
    "    device_of_kernel='cuda',\n",
    "    channels=2,\n",
    "    timesteps=time_steps,  # number of steps\n",
    "    loss_type='l1',  # L1 or L2\n",
    "    blur_routine=blur_routine,\n",
    "    train_routine=train_routine,\n",
    "    sampling_routine=sampling_routine,\n",
    "    discrete=discrete,\n",
    ").cuda()"
   ]
  },
  {
   "cell_type": "code",
   "execution_count": null,
   "metadata": {
    "collapsed": false
   },
   "outputs": [
    {
     "name": "stderr",
     "output_type": "stream",
     "text": [
      "LOSS:   0%|          | 0/700000 [00:00<?, ?it/s]"
     ]
    },
    {
     "name": "stderr",
     "output_type": "stream",
     "text": [
      "Loss=0.084801:   0%|          | 193/700000 [02:52<168:58:19,  1.15it/s]"
     ]
    }
   ],
   "source": [
    "# construct trainer and train\n",
    "\n",
    "trainer = Trainer(\n",
    "    diffusion,\n",
    "    image_size=img_size,\n",
    "    train_batch_size=bhsz,\n",
    "    train_lr=learning_rate,\n",
    "    train_num_steps=train_steps,  # total training steps\n",
    "    gradient_accumulate_every=2,  # gradient accumulation steps\n",
    "    ema_decay=0.995,  # exponential moving average decay\n",
    "    fp16=False,  # turn on mixed precision training with apex\n",
    "    save_and_sample_every=50000,\n",
    "    results_folder=save_folder,\n",
    "    load_path=load_path,\n",
    "    dataloader_train=dataloader_train,\n",
    "    dataloader_test=dataloader_test,\n",
    ")\n",
    "trainer.train()"
   ]
  },
  {
   "cell_type": "code",
   "execution_count": null,
   "metadata": {},
   "outputs": [],
   "source": []
  }
 ],
 "metadata": {
  "kernelspec": {
   "display_name": "venv",
   "language": "python",
   "name": "python3"
  },
  "language_info": {
   "codemirror_mode": {
    "name": "ipython",
    "version": 3
   },
   "file_extension": ".py",
   "mimetype": "text/x-python",
   "name": "python",
   "nbconvert_exporter": "python",
   "pygments_lexer": "ipython3",
   "version": "3.12.7"
  }
 },
 "nbformat": 4,
 "nbformat_minor": 0
}
